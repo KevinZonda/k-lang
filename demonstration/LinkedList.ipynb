{
 "cells": [
  {
   "cell_type": "markdown",
   "id": "803e0148-63ce-4ab1-843f-11d7184c6b33",
   "metadata": {},
   "source": [
    "# Copy instead of referencing"
   ]
  },
  {
   "cell_type": "markdown",
   "id": "7c7686ea-9762-41c5-ac52-e617f65853a0",
   "metadata": {},
   "source": [
    "K Language uses copy insteand of reference as its default behaviour of assigning.\n",
    "Therefore:\n",
    "\n",
    "```python\n",
    "vec1 = struct {\n",
    "  x : 12\n",
    "  y : 13\n",
    "}\n",
    "\n",
    "vec2 = vec1\n",
    "vec2.x = 18 # won't affect x\n",
    "```"
   ]
  },
  {
   "cell_type": "code",
   "execution_count": 12,
   "id": "164607e9-31a4-469b-bda1-082faeb6dd59",
   "metadata": {},
   "outputs": [
    {
     "name": "stdout",
     "output_type": "stream",
     "text": [
      "struct {x: 12, y: 13}\n"
     ]
    }
   ],
   "source": [
    "vec1 = struct {\n",
    "  x : 12\n",
    "  y : 13\n",
    "}\n",
    "vec1"
   ]
  },
  {
   "cell_type": "code",
   "execution_count": 13,
   "id": "7a6d6f4c-9e11-4724-8564-d0ea18267dbf",
   "metadata": {},
   "outputs": [
    {
     "name": "stdout",
     "output_type": "stream",
     "text": [
      "Vec1: struct {x: 12, y: 13}\n",
      "Vec2: struct {x: 18, y: 13}\n"
     ]
    }
   ],
   "source": [
    "vec2 = vec1\n",
    "vec2.x = 18\n",
    "println(\"Vec1: \", vec1)\n",
    "println(\"Vec2: \", vec2)"
   ]
  },
  {
   "cell_type": "markdown",
   "id": "f5381fe0-c7b0-4980-9c49-e37d9f543b67",
   "metadata": {},
   "source": [
    "# Linked List\n",
    "\n",
    "```\n",
    "+-------+---------+     +-------+---------+     +-------+---------+\n",
    "| Value | Pointer-+---->+ Value | Pointer-+---->+ Value | Pointer-+---->Nil\n",
    "+-------+---------+     +-------+---------+     +-------+---------+\n",
    "```\n",
    "\n",
    "\n",
    "In K Lang, pointer can be  treated like a reference. Reference can be done like\n",
    "\n",
    "```python\n",
    "v = 18\n",
    "z = &v  # A Pointer to v\n",
    "```"
   ]
  },
  {
   "cell_type": "code",
   "execution_count": 14,
   "id": "c0ef9785-e67d-472f-85e3-81036bb3f388",
   "metadata": {},
   "outputs": [],
   "source": [
    "struct linkedlist {\n",
    "    val  : any\n",
    "    next : linkedlist?\n",
    "    fn append(&n : linkedlist) {\n",
    "        # TODO: Finish this method\n",
    "    }\n",
    "}"
   ]
  },
  {
   "cell_type": "code",
   "execution_count": 15,
   "id": "95071a16-3d49-491d-adf1-0700a44c9d10",
   "metadata": {},
   "outputs": [
    {
     "name": "stdout",
     "output_type": "stream",
     "text": [
      "linkedlist {val: 1, next: <nil>, append: Function<append@0xc0000a7880>}\n"
     ]
    }
   ],
   "source": [
    "node1 = linkedlist { val : 1 }\n",
    "node1"
   ]
  },
  {
   "cell_type": "code",
   "execution_count": 16,
   "id": "965b74d9-c87b-4e2c-b11f-290d99ca1870",
   "metadata": {},
   "outputs": [
    {
     "name": "stdout",
     "output_type": "stream",
     "text": [
      "linkedlist {val: 2, next: <nil>, append: Function<append@0xc0000a7880>}\n"
     ]
    }
   ],
   "source": [
    "node2 = linkedlist { val : 2 }\n",
    "node2"
   ]
  },
  {
   "cell_type": "code",
   "execution_count": 17,
   "id": "1805f800-59de-4707-b4ed-c58dbe81582d",
   "metadata": {},
   "outputs": [],
   "source": [
    "node1.next = &node2"
   ]
  },
  {
   "cell_type": "code",
   "execution_count": 18,
   "id": "ce5377e9-48d4-4d3d-98b2-38edc4e1357c",
   "metadata": {},
   "outputs": [
    {
     "name": "stdout",
     "output_type": "stream",
     "text": [
      "\n",
      "├── val: 1\n",
      "├── next\n",
      "│   ├── val: 2\n",
      "│   ├── next: <nil>\n",
      "│   └── append: Function<append@0xc0000a7880>\n",
      "└── append: Function<append@0xc0000a7880>\n",
      "\n"
     ]
    }
   ],
   "source": [
    "visualise(node1)"
   ]
  },
  {
   "cell_type": "code",
   "execution_count": 19,
   "id": "d4f04b6a-3375-46eb-b2cc-e4fc53958626",
   "metadata": {},
   "outputs": [
    {
     "name": "stdout",
     "output_type": "stream",
     "text": [
      "\n",
      "├── val: 1\n",
      "├── next\n",
      "│   ├── val: 114\n",
      "│   ├── next: <nil>\n",
      "│   └── append: Function<append@0xc0000a7880>\n",
      "└── append: Function<append@0xc0000a7880>\n",
      "\n"
     ]
    }
   ],
   "source": [
    "node2.val = 114\n",
    "visualise(node1)"
   ]
  }
 ],
 "metadata": {
  "kernelspec": {
   "display_name": "K Kernel",
   "language": "k",
   "name": "jupyter"
  },
  "language_info": {
   "codemirror_mode": "text/x-julia",
   "file_extension": ".k",
   "mimetype": "",
   "name": "K",
   "nbconvert_exporter": "",
   "pygments_lexer": "",
   "version": "go1.22.0"
  }
 },
 "nbformat": 4,
 "nbformat_minor": 5
}
