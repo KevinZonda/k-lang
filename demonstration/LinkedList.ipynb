{
 "cells": [
  {
   "cell_type": "markdown",
   "id": "803e0148-63ce-4ab1-843f-11d7184c6b33",
   "metadata": {},
   "source": [
    "# Example: Pass by Value instead of Reference"
   ]
  },
  {
   "cell_type": "markdown",
   "id": "7c7686ea-9762-41c5-ac52-e617f65853a0",
   "metadata": {},
   "source": [
    "K Language uses copy insteand of reference as its default behaviour of assigning.\n",
    "Therefore:\n",
    "\n",
    "```python\n",
    "vec1 = struct {\n",
    "  x : 12\n",
    "  y : 13\n",
    "}\n",
    "\n",
    "vec2 = vec1\n",
    "vec2.x = 18 # won't affect vec1\n",
    "```"
   ]
  },
  {
   "cell_type": "code",
   "execution_count": 1,
   "id": "164607e9-31a4-469b-bda1-082faeb6dd59",
   "metadata": {},
   "outputs": [
    {
     "name": "stdout",
     "output_type": "stream",
     "text": [
      "struct {x: 12, y: 13}\n"
     ]
    }
   ],
   "source": [
    "vec1 = struct {\n",
    "  x : 12\n",
    "  y : 13\n",
    "}\n",
    "vec1"
   ]
  },
  {
   "cell_type": "code",
   "execution_count": 22,
   "id": "7a6d6f4c-9e11-4724-8564-d0ea18267dbf",
   "metadata": {},
   "outputs": [
    {
     "name": "stdout",
     "output_type": "stream",
     "text": [
      "Vec1: struct {x: 12, y: 13}\n",
      "Vec2: struct {x: 18, y: 13}\n"
     ]
    }
   ],
   "source": [
    "vec2 = vec1\n",
    "vec2.x = 18\n",
    "println($\"Vec1: {vec1}\")\n",
    "println(\"Vec2: \", vec2)"
   ]
  },
  {
   "cell_type": "code",
   "execution_count": 3,
   "id": "0bb669ff-6ad2-4998-934d-55deaf84c14e",
   "metadata": {},
   "outputs": [
    {
     "name": "stdout",
     "output_type": "stream",
     "text": [
      "struct {x: 11, y: 13}\n"
     ]
    }
   ],
   "source": [
    "vec3 = &vec2\n",
    "vec3.x = 11\n",
    "println(vec2)"
   ]
  },
  {
   "cell_type": "markdown",
   "id": "f5381fe0-c7b0-4980-9c49-e37d9f543b67",
   "metadata": {},
   "source": [
    "# Linked List\n",
    "\n",
    "```\n",
    "+-------+---------+     +-------+---------+     +-------+---------+\n",
    "| Value | Pointer-+---->+ Value | Pointer-+---->+ Value | Pointer-+---->Nil\n",
    "+-------+---------+     +-------+---------+     +-------+---------+\n",
    "```\n",
    "\n",
    "\n",
    "In K Lang, pointer can be  treated like a reference. Reference can be done like\n",
    "\n",
    "```python\n",
    "v = 18\n",
    "z = &v  # A Pointer to v\n",
    "```"
   ]
  },
  {
   "cell_type": "code",
   "execution_count": 9,
   "id": "c0ef9785-e67d-472f-85e3-81036bb3f388",
   "metadata": {},
   "outputs": [],
   "source": [
    "struct linkedlist {\n",
    "    val  : any\n",
    "    next : linkedlist?\n",
    "    fn append(&n : linkedlist) {\n",
    "        # TODO: Finish this method\n",
    "    }\n",
    "}"
   ]
  },
  {
   "cell_type": "code",
   "execution_count": 10,
   "id": "95071a16-3d49-491d-adf1-0700a44c9d10",
   "metadata": {},
   "outputs": [
    {
     "name": "stdout",
     "output_type": "stream",
     "text": [
      "linkedlist {val: 1, next: <nil>, append: Function<append@0x1400031b900>}\n"
     ]
    }
   ],
   "source": [
    "node1 = linkedlist { val : 1 }\n",
    "node1"
   ]
  },
  {
   "cell_type": "code",
   "execution_count": 14,
   "id": "965b74d9-c87b-4e2c-b11f-290d99ca1870",
   "metadata": {},
   "outputs": [
    {
     "name": "stdout",
     "output_type": "stream",
     "text": [
      "\n",
      "├── val: 1\n",
      "└── next\n",
      "    ├── val: 2\n",
      "    └── next: <nil>\n",
      "\n"
     ]
    }
   ],
   "source": [
    "node2 = linkedlist { val : 2 }\n",
    "node3 = linkedlist { val : 3 }\n",
    "node1.next = &node2\n",
    "visualise(node1)"
   ]
  },
  {
   "cell_type": "code",
   "execution_count": 15,
   "id": "ce5377e9-48d4-4d3d-98b2-38edc4e1357c",
   "metadata": {},
   "outputs": [
    {
     "name": "stdout",
     "output_type": "stream",
     "text": [
      "\n",
      "├── val: 1\n",
      "└── next\n",
      "    ├── val: 2\n",
      "    └── next\n",
      "        ├── val: 3\n",
      "        └── next: <nil>\n",
      "\n"
     ]
    }
   ],
   "source": [
    "node2.next = &node3\n",
    "visualise(node1)"
   ]
  },
  {
   "cell_type": "code",
   "execution_count": 16,
   "id": "d4f04b6a-3375-46eb-b2cc-e4fc53958626",
   "metadata": {},
   "outputs": [
    {
     "name": "stdout",
     "output_type": "stream",
     "text": [
      "\n",
      "├── val: 1\n",
      "└── next\n",
      "    ├── val: 114\n",
      "    └── next\n",
      "        ├── val: 3\n",
      "        └── next: <nil>\n",
      "\n"
     ]
    }
   ],
   "source": [
    "node2.val = 114\n",
    "visualise(node1)"
   ]
  },
  {
   "cell_type": "markdown",
   "id": "e381ed38-24ea-4f18-9d46-b888ef07fbf3",
   "metadata": {},
   "source": [
    "## Example of Loop"
   ]
  },
  {
   "cell_type": "code",
   "execution_count": 24,
   "id": "b76a6c56-f11c-41ab-b591-57351a70ed64",
   "metadata": {},
   "outputs": [
    {
     "name": "stdout",
     "output_type": "stream",
     "text": [
      "0\n",
      "1\n",
      "2\n",
      "3\n",
      "4\n",
      "5\n",
      "6\n",
      "7\n",
      "8\n",
      "9\n"
     ]
    }
   ],
   "source": [
    "for (x : range(10)) {\n",
    "    println(x)\n",
    "}"
   ]
  },
  {
   "cell_type": "code",
   "execution_count": 26,
   "id": "c014fa74-8560-43b2-a90f-07188f09a964",
   "metadata": {},
   "outputs": [
    {
     "name": "stdout",
     "output_type": "stream",
     "text": [
      "0\n",
      "1\n",
      "2\n",
      "3\n",
      "4\n",
      "5\n"
     ]
    }
   ],
   "source": [
    "for (x = 0; x <= 5; x = x + 1) {\n",
    "    println(x)\n",
    "}"
   ]
  },
  {
   "cell_type": "code",
   "execution_count": 27,
   "id": "80ac418b-ecc7-4e0c-a09f-c15e62e71b72",
   "metadata": {},
   "outputs": [
    {
     "name": "stdout",
     "output_type": "stream",
     "text": [
      "1\n",
      "2\n",
      "3\n"
     ]
    }
   ],
   "source": [
    "x = 0\n",
    "for {\n",
    "    x = x + 1\n",
    "    println(x)\n",
    "    if (x == 3) {\n",
    "        break\n",
    "    }\n",
    "}"
   ]
  },
  {
   "cell_type": "code",
   "execution_count": null,
   "id": "30155372-cb96-4582-8579-c0de724835dc",
   "metadata": {},
   "outputs": [],
   "source": []
  }
 ],
 "metadata": {
  "kernelspec": {
   "display_name": "K Kernel",
   "language": "k",
   "name": "k"
  },
  "language_info": {
   "codemirror_mode": "text/x-julia",
   "file_extension": ".k",
   "mimetype": "",
   "name": "K",
   "nbconvert_exporter": "",
   "pygments_lexer": "",
   "version": "go1.22.0"
  }
 },
 "nbformat": 4,
 "nbformat_minor": 5
}
